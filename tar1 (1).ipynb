{
 "cells": [
  {
   "cell_type": "code",
   "execution_count": 6,
   "id": "9a211ded-0438-461f-92c5-3d5e713f6c00",
   "metadata": {},
   "outputs": [
    {
     "data": {
      "text/plain": [
       "1"
      ]
     },
     "execution_count": 6,
     "metadata": {},
     "output_type": "execute_result"
    }
   ],
   "source": [
    "    x=1\n",
    "x"
   ]
  },
  {
   "cell_type": "markdown",
   "id": "17d25045-3486-4010-8df6-1cf92e8b778b",
   "metadata": {},
   "source": [
    "# Welcome"
   ]
  },
  {
   "cell_type": "code",
   "execution_count": null,
   "id": "19d8436e-cc8e-463c-b00d-8fd994c08cdd",
   "metadata": {},
   "outputs": [],
   "source": []
  },
  {
   "cell_type": "code",
   "execution_count": 1,
   "id": "776d158b-974e-437f-9391-c1bce7358c03",
   "metadata": {},
   "outputs": [],
   "source": [
    "import numpy as np"
   ]
  },
  {
   "cell_type": "code",
   "execution_count": 2,
   "id": "63f17358-5756-4961-95ce-29ab694e410d",
   "metadata": {},
   "outputs": [
    {
     "name": "stdout",
     "output_type": "stream",
     "text": [
      "[1 2 3]\n"
     ]
    },
    {
     "data": {
      "text/plain": [
       "numpy.ndarray"
      ]
     },
     "execution_count": 2,
     "metadata": {},
     "output_type": "execute_result"
    }
   ],
   "source": [
    "arr = np.array([1,2,3])\n",
    "print(arr)\n",
    "type(arr)"
   ]
  },
  {
   "cell_type": "code",
   "execution_count": 3,
   "id": "71f3bfbb-6ada-41d4-8134-e0449cebcff2",
   "metadata": {},
   "outputs": [
    {
     "name": "stdout",
     "output_type": "stream",
     "text": [
      "[[1 2 3]\n",
      " [4 5 6]]\n",
      "<class 'numpy.ndarray'>\n"
     ]
    }
   ],
   "source": [
    "matrix1 = [[1,2,3],[4,5,6]]\n",
    "np_matrix = np.array(matrix1)\n",
    "print(np_matrix)\n",
    "print(type(np_matrix))"
   ]
  },
  {
   "cell_type": "code",
   "execution_count": 4,
   "id": "d9bcd43c-351d-4011-995f-3d18ea899a35",
   "metadata": {},
   "outputs": [
    {
     "name": "stdout",
     "output_type": "stream",
     "text": [
      "[11 12 13 14 15 16 17 18 19 20 21 22]\n"
     ]
    }
   ],
   "source": [
    "range_arr = np.arange(11,23)\n",
    "print(range_arr)"
   ]
  },
  {
   "cell_type": "code",
   "execution_count": 13,
   "id": "15223c50-304f-43ce-be1e-a69e366d6eca",
   "metadata": {},
   "outputs": [
    {
     "name": "stdout",
     "output_type": "stream",
     "text": [
      "[[0 0 0]\n",
      " [0 0 0]]\n",
      "[[1 0 0]\n",
      " [0 0 0]]\n"
     ]
    }
   ],
   "source": [
    "mul = np.zeros(shape=(2,3), dtype=int)\n",
    "print(mul)\n",
    "mul[0][0] = 1\n",
    "print(mul)"
   ]
  },
  {
   "cell_type": "code",
   "execution_count": 16,
   "id": "3755e624-a126-417f-891e-4bf5fa4e78c2",
   "metadata": {},
   "outputs": [
    {
     "name": "stdout",
     "output_type": "stream",
     "text": [
      "[ 0.          1.42857143  2.85714286  4.28571429  5.71428571  7.14285714\n",
      "  8.57142857 10.        ]\n"
     ]
    }
   ],
   "source": [
    "lin_Arr=np.linspace(0, 10, 8)\n",
    "print(lin_Arr)"
   ]
  },
  {
   "cell_type": "code",
   "execution_count": 19,
   "id": "14c97556-0a13-4ee7-ace1-c7728d029b99",
   "metadata": {},
   "outputs": [
    {
     "data": {
      "text/plain": [
       "array(['0.00', '1.43', '2.86', '4.29', '5.71', '7.14', '8.57', '10.00'],\n",
       "      dtype='<U5')"
      ]
     },
     "execution_count": 19,
     "metadata": {},
     "output_type": "execute_result"
    }
   ],
   "source": [
    "np.vectorize(lambda x: f\"{x:.2f}\")(lin_Arr)"
   ]
  },
  {
   "cell_type": "code",
   "execution_count": 20,
   "id": "2b424070-b92f-40c1-aec3-578453c1e600",
   "metadata": {},
   "outputs": [
    {
     "data": {
      "text/plain": [
       "array([ 0.  ,  1.43,  2.86,  4.29,  5.71,  7.14,  8.57, 10.  ])"
      ]
     },
     "execution_count": 20,
     "metadata": {},
     "output_type": "execute_result"
    }
   ],
   "source": [
    "np.around(lin_Arr, 2)"
   ]
  },
  {
   "cell_type": "code",
   "execution_count": 22,
   "id": "c85b0d90-0d56-4581-9d2e-4dafb0d07e8b",
   "metadata": {},
   "outputs": [
    {
     "data": {
      "text/plain": [
       "array([[92, 72, 67, 85,  7],\n",
       "       [88, 41, 41, 42, 58]])"
      ]
     },
     "execution_count": 22,
     "metadata": {},
     "output_type": "execute_result"
    }
   ],
   "source": [
    "np.random.randint(0, 101, (2,5))"
   ]
  },
  {
   "cell_type": "code",
   "execution_count": 39,
   "id": "b25a615e-4ade-43e1-aa27-676b7958fe92",
   "metadata": {},
   "outputs": [
    {
     "data": {
      "text/plain": [
       "array([[51, 92, 14, 71, 60],\n",
       "       [20, 82, 86, 74, 74]])"
      ]
     },
     "execution_count": 39,
     "metadata": {},
     "output_type": "execute_result"
    }
   ],
   "source": [
    "np.random.seed(42)\n",
    "np.random.randint(0, 101, (2,5))"
   ]
  },
  {
   "cell_type": "code",
   "execution_count": 40,
   "id": "ca5c68b7-e474-4d65-8d0b-247e089323c8",
   "metadata": {},
   "outputs": [
    {
     "data": {
      "text/plain": [
       "list"
      ]
     },
     "execution_count": 40,
     "metadata": {},
     "output_type": "execute_result"
    }
   ],
   "source": [
    "type([])"
   ]
  },
  {
   "cell_type": "code",
   "execution_count": 41,
   "id": "31909527-565c-4e8d-89bd-d96eff0dc6e7",
   "metadata": {},
   "outputs": [
    {
     "name": "stdout",
     "output_type": "stream",
     "text": [
      "4\n"
     ]
    }
   ],
   "source": [
    "import array\n",
    "\n",
    "# Creating an array of integers\n",
    "arr = array.array('i', [1, 2, 3, 4, 5])\n",
    "print(arr.itemsize)"
   ]
  },
  {
   "cell_type": "code",
   "execution_count": 2,
   "id": "d4d0e73a-aeb3-44f9-b4c2-cc8af882682c",
   "metadata": {},
   "outputs": [
    {
     "name": "stdout",
     "output_type": "stream",
     "text": [
      "[[ 0  1  2  3  4]\n",
      " [ 5  6  7  8  9]\n",
      " [10 11 12 13 14]\n",
      " [15 16 17 18 19]\n",
      " [20 21 22 23 24]]\n"
     ]
    }
   ],
   "source": [
    "arr1 = np.arange(0,25)\n",
    "arr2 = arr1.reshape(5, 5)\n",
    "print(arr2)"
   ]
  },
  {
   "cell_type": "code",
   "execution_count": 4,
   "id": "6b0b1f81-7aa8-472b-b6b8-7dd18c685a1a",
   "metadata": {},
   "outputs": [
    {
     "data": {
      "text/plain": [
       "24"
      ]
     },
     "execution_count": 4,
     "metadata": {},
     "output_type": "execute_result"
    }
   ],
   "source": [
    "arr1.max()\n",
    "arr2.max()"
   ]
  },
  {
   "cell_type": "code",
   "execution_count": 18,
   "id": "2a6507d5-fd86-4fd1-9753-53db2abb3eb2",
   "metadata": {},
   "outputs": [
    {
     "name": "stdout",
     "output_type": "stream",
     "text": [
      "[[76 41 67 92 56]\n",
      " [82 59  4 43 93]\n",
      " [36 80 62  3 35]\n",
      " [61 25 20 49 35]\n",
      " [39  9 69 76 22]]\n",
      "93\n",
      "3\n",
      "9\n",
      "(5, 5)\n",
      "[92 93 80 61 76]\n"
     ]
    }
   ],
   "source": [
    "#arr1 = np.random.randint(0, 101, (5, 5))\n",
    "arr0 = np.random.randint(0, 101, 25)\n",
    "arr1 = arr0.reshape(5,5)\n",
    "print(arr1)\n",
    "print(arr1.max())\n",
    "print(arr1.min())\n",
    "print(arr1.argmax())\n",
    "print(arr1.shape)\n",
    "print(arr1.max(axis=1))"
   ]
  },
  {
   "cell_type": "code",
   "execution_count": 25,
   "id": "0f28c7e8-866c-4b21-a1cb-58feda9ddc05",
   "metadata": {},
   "outputs": [
    {
     "name": "stdout",
     "output_type": "stream",
     "text": [
      "22\n"
     ]
    }
   ],
   "source": [
    "arr1[-1,-1]\n",
    "print(arr1[arr1.shape[0] - 1, arr1.shape[1] - 1])"
   ]
  },
  {
   "cell_type": "code",
   "execution_count": 34,
   "id": "718124a4-6731-4aa5-8f03-26192458523c",
   "metadata": {},
   "outputs": [
    {
     "data": {
      "text/plain": [
       "array([[ 0, 41, 67, 92, 56],\n",
       "       [ 0, 59,  4, 43, 93],\n",
       "       [ 0, 80, 62,  3, 35],\n",
       "       [ 0, 25, 20, 49, 35],\n",
       "       [ 0,  9, 69, 76, 22]])"
      ]
     },
     "execution_count": 34,
     "metadata": {},
     "output_type": "execute_result"
    }
   ],
   "source": [
    "arr1[:, 0:1] = 0\n",
    "arr1"
   ]
  },
  {
   "cell_type": "code",
   "execution_count": 44,
   "id": "909b7e6e-a465-47e4-a98d-cfb086a20f11",
   "metadata": {},
   "outputs": [
    {
     "name": "stdout",
     "output_type": "stream",
     "text": [
      "[84 39 49 16 89 52 46 13 70 16 84 14 93 35 35 57 16 81 69 76 39 93  1 52\n",
      " 86]\n",
      "[1000   39   49   16   89   52   46   13   70   16   84   14   93   35\n",
      "   35   57   16   81   69   76   39   93    1   52   86]\n",
      "[84 89 52 70 84 93 57 81 69 76 93 52 86]\n",
      "[84 39 49 16 89 52 46 13 70 16 84 14 93 35 35 57 16 81 69 76 39 93  1 52\n",
      " 86]\n"
     ]
    }
   ],
   "source": [
    "arr1 = np.random.randint(0, 101, 25)\n",
    "arr2 = arr1.copy()\n",
    "arr2[0] = 1000\n",
    "print(arr1)\n",
    "print(arr2)\n",
    "filter_Arr = arr1[arr1 > 50]\n",
    "print(filter_Arr)\n",
    "filter_Arr2 = arr1[(arr1 > 50) | (arr1 < 80)]\n",
    "print(filter_Arr2)"
   ]
  },
  {
   "cell_type": "code",
   "execution_count": 53,
   "id": "ad09107f-7676-4535-b416-03578588767e",
   "metadata": {},
   "outputs": [
    {
     "name": "stdout",
     "output_type": "stream",
     "text": [
      "[11 12 13]\n",
      "[ 1  2  3 10 10 10]\n",
      "[21 22 23]\n",
      "55\n",
      "22.0\n"
     ]
    }
   ],
   "source": [
    "list1 = [1,2,3]\n",
    "list2 = [10, 10, 10]\n",
    "\n",
    "np_list1 = np.array(list1)\n",
    "np_list2 = np.array(list2)\n",
    "new_arr = np_list1 + np_list2\n",
    "print(new_arr)\n",
    "print(np.concatenate((np_list1, np_list2)))\n",
    "new_arr = new_arr + 10\n",
    "print(new_arr)\n",
    "print(new_arr.sum() - 11)\n",
    "print(new_arr.mean())\n"
   ]
  },
  {
   "cell_type": "code",
   "execution_count": 56,
   "id": "0006f8da-31ee-4caf-9ad8-f332feca4e3e",
   "metadata": {},
   "outputs": [
    {
     "name": "stdout",
     "output_type": "stream",
     "text": [
      "[[14 21 61]\n",
      " [64 26 93]]\n",
      "[ 78  47 154]\n",
      "[ 96 183]\n"
     ]
    }
   ],
   "source": [
    "arr1 = np.random.randint(0, 101, 6)\n",
    "arr2 = arr1.reshape((2, 3))\n",
    "print(arr2)\n",
    "print(arr2.sum(axis=0))\n",
    "print(arr2.sum(axis=1))"
   ]
  },
  {
   "cell_type": "markdown",
   "id": "b3685524-a089-4d89-b9a6-0921b25fa750",
   "metadata": {},
   "source": [
    "# PANDAS = Python Data Analysis Library"
   ]
  },
  {
   "cell_type": "markdown",
   "id": "c42ec479-aff0-444a-9da6-b2fd07ff2037",
   "metadata": {},
   "source": [
    "## Data frame - like SQL \n",
    "Excel manipulation <br />\n",
    "Good for:<br />\n",
    "prepare data<br />\n",
    "clean data<br />\n",
    "statistics - min, max, avg, mean, kobarians, shonut<br />\n",
    "exploration - visual<br />\n",
    "data sources - CSV, SQL. we will work with excel<br />\n",
    "<b>pip install panda</b>"
   ]
  },
  {
   "cell_type": "code",
   "execution_count": 27,
   "id": "f6d6a01c-e232-482c-8d0f-a2ef2709af94",
   "metadata": {},
   "outputs": [
    {
     "name": "stdout",
     "output_type": "stream",
     "text": [
      "[ 10 100  15  35]\n",
      "0     10\n",
      "1    100\n",
      "2     15\n",
      "3     35\n",
      "dtype: int64\n",
      "<class 'pandas.core.series.Series'>\n",
      "USA       1776\n",
      "CANADA    1867\n",
      "MEXICO    1821\n",
      "dtype: int64\n",
      "1776\n",
      "0    1\n",
      "1    2\n",
      "2    3\n",
      "3    4\n",
      "dtype: int64\n",
      "USA       1776\n",
      "CANADA    1867\n",
      "MEXICO    1821\n",
      "dtype: int64\n",
      "Index(['USA', 'CANADA', 'MEXICO'], dtype='object')\n",
      "<class 'pandas.core.indexes.base.Index'>\n",
      "USA\n",
      "3\n",
      "1776\n",
      "Brazil       NaN\n",
      "CANADA       NaN\n",
      "CHINA        NaN\n",
      "MEXICO       NaN\n",
      "USA       1876.0\n",
      "dtype: float64\n",
      "Brazil    1768.0\n",
      "CANADA    1867.0\n",
      "CHINA      200.0\n",
      "MEXICO    1821.0\n",
      "USA       1876.0\n",
      "dtype: float64\n"
     ]
    }
   ],
   "source": [
    "import numpy as np\n",
    "import pandas as pd\n",
    "# do pd. [tab] to see functions\n",
    "# look in google for pandas.pydata.org/docs\n",
    "# Pandas Series = like np.array\n",
    "pd_series = pd.Series([10, 100, 15, 35]) # we can put diff types but then the Series will be object. not recommended\n",
    "np_array = np.array([10, 100, 15, 35])\n",
    "print(np_array)\n",
    "print(pd_series)\n",
    "print(type(pd_series))\n",
    "# we get a table with index-value, like dictionary. this is thee diff\n",
    "# we can change from default numbers to seomthing else\n",
    "data = [1776, 1867, 1821]\n",
    "label_index = ['USA', 'CANADA', 'MEXICO']\n",
    "pd_series = pd.Series(data, label_index)\n",
    "print(pd_series)\n",
    "print(pd_series['USA']) # this is a unique feature of Pandas\n",
    "#print(pd_series[0]) #this will show a Warning since the index is string and will not work in future version # use iloc\n",
    "# see below how to print index 0 using .keys()\n",
    "\n",
    "# can we append?\n",
    "# Create an initial Series\n",
    "original_series = pd.Series([1, 2, 3])\n",
    "# Append an item (4) to the Series using pd.concat\n",
    "new_series = pd.concat([original_series, pd.Series([4])], ignore_index=True)\n",
    "print(new_series)\n",
    "\n",
    "dict1 = {'USA': 1776, 'CANADA': 1867, 'MEXICO': 1821}\n",
    "pd_ser_dict = pd.Series(dict1)\n",
    "print(pd_ser_dict)\n",
    "\n",
    "pd_keys = pd_series.keys()\n",
    "print(pd_keys)\n",
    "print(type(pd_keys))\n",
    "print(pd_keys[0])\n",
    "print(pd_keys.size)\n",
    "print(pd_series[pd_keys[0]])\n",
    "\n",
    "second = {'Brazil': 1768, 'CHINA': 200, 'USA': 100}\n",
    "second_ser = pd.Series(second)\n",
    "concat_ser = pd_ser_dict + second_ser #where it does not appear in both it becomes NaN\n",
    "print(concat_ser)\n",
    "concat_ser2 = pd_ser_dict.add(second_ser, fill_value=0) # without fill_value=0 it will look the 2 lines ago\n",
    "print(concat_ser2)"
   ]
  }
 ],
 "metadata": {
  "kernelspec": {
   "display_name": "Python 3 (ipykernel)",
   "language": "python",
   "name": "python3"
  },
  "language_info": {
   "codemirror_mode": {
    "name": "ipython",
    "version": 3
   },
   "file_extension": ".py",
   "mimetype": "text/x-python",
   "name": "python",
   "nbconvert_exporter": "python",
   "pygments_lexer": "ipython3",
   "version": "3.11.7"
  }
 },
 "nbformat": 4,
 "nbformat_minor": 5
}
